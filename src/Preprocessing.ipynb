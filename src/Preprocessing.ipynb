{
 "cells": [
  {
   "cell_type": "code",
   "execution_count": 2,
   "id": "c627469a",
   "metadata": {},
   "outputs": [
    {
     "name": "stdout",
     "output_type": "stream",
     "text": [
      " Volume in drive C is Western Digital SN770 2TB\n",
      " Volume Serial Number is 721D-13AE\n",
      "\n",
      " Directory of C:\\Users\\rzhu2\\Projects\\UIUC\\Group26-FA22\\src\n",
      "\n",
      "11/01/2022  11:28 PM    <DIR>          .\n",
      "11/01/2022  11:28 PM    <DIR>          ..\n",
      "10/13/2022  03:29 PM    <DIR>          .ipynb_checkpoints\n",
      "10/13/2022  03:29 PM    <DIR>          cached\n",
      "10/13/2022  03:29 PM                65 kaggle.json\n",
      "11/01/2022  11:28 PM           114,671 model_train_upload_workflow.ipynb\n",
      "10/13/2022  03:29 PM    <DIR>          output-small\n",
      "11/01/2022  11:28 PM             6,455 Preprocessing.ipynb\n",
      "10/13/2022  03:29 PM    <DIR>          runs\n",
      "10/13/2022  03:29 PM         2,299,427 trump.csv\n",
      "               4 File(s)      2,420,618 bytes\n",
      "               6 Dir(s)  1,498,397,261,824 bytes free\n"
     ]
    }
   ],
   "source": [
    "ls"
   ]
  },
  {
   "cell_type": "code",
   "execution_count": 26,
   "id": "f0ac8ae6",
   "metadata": {},
   "outputs": [],
   "source": [
    "import re\n",
    "import pandas as pd\n",
    "import os"
   ]
  },
  {
   "cell_type": "code",
   "execution_count": 27,
   "id": "d740deaa",
   "metadata": {},
   "outputs": [],
   "source": [
    "data = {\n",
    "    'name': [],\n",
    "    'line': []\n",
    "}"
   ]
  },
  {
   "cell_type": "code",
   "execution_count": 28,
   "id": "5b3c1715",
   "metadata": {},
   "outputs": [],
   "source": [
    "pattern = r'([A-Z\\s]+):(.+)'"
   ]
  },
  {
   "cell_type": "code",
   "execution_count": 29,
   "id": "c0f600b2",
   "metadata": {},
   "outputs": [
    {
     "name": "stdout",
     "output_type": "stream",
     "text": [
      "2891\n"
     ]
    }
   ],
   "source": [
    "splittedTxt = []\n",
    "for filename in os.listdir(\"../Data and Transcripts/presidential_debates\"):\n",
    "    with open(\"../Data and Transcripts/presidential_debates/{}\".format(filename), \"r\", encoding=\"utf8\") as file:\n",
    "        #txt = file.readline()\n",
    "        for sentence in file:\n",
    "            match = re.findall(pattern, sentence)\n",
    "            if (match):\n",
    "                name, line = match[0]\n",
    "                data['name'].append(name)\n",
    "                data['line'].append(line)\n",
    "\n",
    "print(len(data['name']))"
   ]
  },
  {
   "cell_type": "code",
   "execution_count": 30,
   "id": "0e073ca3",
   "metadata": {},
   "outputs": [],
   "source": [
    "df = pd.DataFrame(data)\n",
    "#df.rename(columns = {0: \"line\"}, inplace=True)\n",
    "#df.insert(loc=0,\n",
    "          #column='name',\n",
    "          #value=\"trump\")"
   ]
  },
  {
   "cell_type": "code",
   "execution_count": 31,
   "id": "c6f752d1",
   "metadata": {},
   "outputs": [
    {
     "data": {
      "text/html": [
       "<div>\n",
       "<style scoped>\n",
       "    .dataframe tbody tr th:only-of-type {\n",
       "        vertical-align: middle;\n",
       "    }\n",
       "\n",
       "    .dataframe tbody tr th {\n",
       "        vertical-align: top;\n",
       "    }\n",
       "\n",
       "    .dataframe thead th {\n",
       "        text-align: right;\n",
       "    }\n",
       "</style>\n",
       "<table border=\"1\" class=\"dataframe\">\n",
       "  <thead>\n",
       "    <tr style=\"text-align: right;\">\n",
       "      <th></th>\n",
       "      <th>name</th>\n",
       "      <th>line</th>\n",
       "    </tr>\n",
       "  </thead>\n",
       "  <tbody>\n",
       "    <tr>\n",
       "      <th>0</th>\n",
       "      <td>QUIJANO</td>\n",
       "      <td>Good evening. From Longwood University in Far...</td>\n",
       "    </tr>\n",
       "    <tr>\n",
       "      <th>1</th>\n",
       "      <td>KAINE</td>\n",
       "      <td>Elaine, thank you for being here tonight, and...</td>\n",
       "    </tr>\n",
       "    <tr>\n",
       "      <th>2</th>\n",
       "      <td>QUIJANO</td>\n",
       "      <td>Governor Pence?</td>\n",
       "    </tr>\n",
       "    <tr>\n",
       "      <th>3</th>\n",
       "      <td>PENCE</td>\n",
       "      <td>Well, first off, thank you, Elaine, and thank...</td>\n",
       "    </tr>\n",
       "    <tr>\n",
       "      <th>4</th>\n",
       "      <td>QUIJANO</td>\n",
       "      <td>Senator Kaine, on the campaign trail, you pra...</td>\n",
       "    </tr>\n",
       "    <tr>\n",
       "      <th>...</th>\n",
       "      <td>...</td>\n",
       "      <td>...</td>\n",
       "    </tr>\n",
       "    <tr>\n",
       "      <th>2886</th>\n",
       "      <td>WALLACE</td>\n",
       "      <td>Gentlemen, just say that’s the end of it [cro...</td>\n",
       "    </tr>\n",
       "    <tr>\n",
       "      <th>2887</th>\n",
       "      <td>TRUMP</td>\n",
       "      <td>I want to see an honest ballot count.</td>\n",
       "    </tr>\n",
       "    <tr>\n",
       "      <th>2888</th>\n",
       "      <td>WALLACE</td>\n",
       "      <td>We’re going to leave it there. . .</td>\n",
       "    </tr>\n",
       "    <tr>\n",
       "      <th>2889</th>\n",
       "      <td>TRUMP</td>\n",
       "      <td>And I think he does too. . .</td>\n",
       "    </tr>\n",
       "    <tr>\n",
       "      <th>2890</th>\n",
       "      <td>WALLACE</td>\n",
       "      <td>Good evening from the Health Education Campus...</td>\n",
       "    </tr>\n",
       "  </tbody>\n",
       "</table>\n",
       "<p>2891 rows × 2 columns</p>\n",
       "</div>"
      ],
      "text/plain": [
       "         name                                               line\n",
       "0     QUIJANO   Good evening. From Longwood University in Far...\n",
       "1       KAINE   Elaine, thank you for being here tonight, and...\n",
       "2     QUIJANO                                    Governor Pence?\n",
       "3       PENCE   Well, first off, thank you, Elaine, and thank...\n",
       "4     QUIJANO   Senator Kaine, on the campaign trail, you pra...\n",
       "...       ...                                                ...\n",
       "2886  WALLACE   Gentlemen, just say that’s the end of it [cro...\n",
       "2887    TRUMP              I want to see an honest ballot count.\n",
       "2888  WALLACE                 We’re going to leave it there. . .\n",
       "2889    TRUMP                       And I think he does too. . .\n",
       "2890  WALLACE   Good evening from the Health Education Campus...\n",
       "\n",
       "[2891 rows x 2 columns]"
      ]
     },
     "execution_count": 31,
     "metadata": {},
     "output_type": "execute_result"
    }
   ],
   "source": [
    "df"
   ]
  },
  {
   "cell_type": "code",
   "execution_count": 33,
   "id": "10922d07",
   "metadata": {},
   "outputs": [],
   "source": [
    "df.to_csv(\"trump.csv\", index=False)"
   ]
  },
  {
   "cell_type": "code",
   "execution_count": null,
   "id": "3db27c9a",
   "metadata": {},
   "outputs": [],
   "source": []
  }
 ],
 "metadata": {
  "kernelspec": {
   "display_name": "Python 3 (ipykernel)",
   "language": "python",
   "name": "python3"
  },
  "language_info": {
   "codemirror_mode": {
    "name": "ipython",
    "version": 3
   },
   "file_extension": ".py",
   "mimetype": "text/x-python",
   "name": "python",
   "nbconvert_exporter": "python",
   "pygments_lexer": "ipython3",
   "version": "3.9.12"
  }
 },
 "nbformat": 4,
 "nbformat_minor": 5
}
