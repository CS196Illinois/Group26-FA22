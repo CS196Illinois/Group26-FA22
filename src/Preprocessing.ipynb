{
 "cells": [
  {
   "cell_type": "code",
   "execution_count": 1,
   "id": "c627469a",
   "metadata": {},
   "outputs": [
    {
     "name": "stdout",
     "output_type": "stream",
     "text": [
      " Volume in drive C is Western Digital SN770 2TB\n",
      " Volume Serial Number is 721D-13AE\n",
      "\n",
      " Directory of C:\\Users\\rzhu2\\Projects\\UIUC\\Group26-FA22\\src\n",
      "\n",
      "10/11/2022  12:52 PM    <DIR>          .\n",
      "10/11/2022  12:52 PM    <DIR>          ..\n",
      "10/11/2022  12:50 PM    <DIR>          .ipynb_checkpoints\n",
      "10/11/2022  12:52 PM             3,269 Preprocessing.ipynb\n",
      "               1 File(s)          3,269 bytes\n",
      "               3 Dir(s)  1,577,370,370,048 bytes free\n"
     ]
    }
   ],
   "source": [
    "ls"
   ]
  },
  {
   "cell_type": "code",
   "execution_count": 5,
   "id": "f0ac8ae6",
   "metadata": {},
   "outputs": [],
   "source": [
    "import re\n",
    "import pandas as pd\n",
    "import os"
   ]
  },
  {
   "cell_type": "code",
   "execution_count": null,
   "id": "d740deaa",
   "metadata": {},
   "outputs": [],
   "source": []
  },
  {
   "cell_type": "code",
   "execution_count": 30,
   "id": "c0f600b2",
   "metadata": {},
   "outputs": [
    {
     "name": "stdout",
     "output_type": "stream",
     "text": [
      "33817\n"
     ]
    }
   ],
   "source": [
    "splittedTxt = []\n",
    "for filename in os.listdir(\"../Data and Transcripts/TrumpSpeeches\"):\n",
    "    with open(\"../Data and Transcripts/TrumpSpeeches/{}\".format(filename), \"r\", encoding=\"utf8\") as file:\n",
    "        txt = file.readline();\n",
    "        for sentence in txt.split(\".\"):\n",
    "            splittedTxt.append(sentence)\n",
    "\n",
    "print(len(splittedTxt))"
   ]
  },
  {
   "cell_type": "code",
   "execution_count": 46,
   "id": "0e073ca3",
   "metadata": {},
   "outputs": [],
   "source": [
    "df = pd.DataFrame(splittedTxt)\n",
    "df.rename(columns = {0: \"line\"}, inplace=True)\n",
    "df.insert(loc=0,\n",
    "          column='name',\n",
    "          value=\"trump\")"
   ]
  },
  {
   "cell_type": "code",
   "execution_count": 49,
   "id": "c6f752d1",
   "metadata": {},
   "outputs": [
    {
     "data": {
      "text/html": [
       "<div>\n",
       "<style scoped>\n",
       "    .dataframe tbody tr th:only-of-type {\n",
       "        vertical-align: middle;\n",
       "    }\n",
       "\n",
       "    .dataframe tbody tr th {\n",
       "        vertical-align: top;\n",
       "    }\n",
       "\n",
       "    .dataframe thead th {\n",
       "        text-align: right;\n",
       "    }\n",
       "</style>\n",
       "<table border=\"1\" class=\"dataframe\">\n",
       "  <thead>\n",
       "    <tr style=\"text-align: right;\">\n",
       "      <th></th>\n",
       "      <th>name</th>\n",
       "      <th>line</th>\n",
       "    </tr>\n",
       "  </thead>\n",
       "  <tbody>\n",
       "    <tr>\n",
       "      <th>0</th>\n",
       "      <td>trump</td>\n",
       "      <td>Thank you</td>\n",
       "    </tr>\n",
       "    <tr>\n",
       "      <th>1</th>\n",
       "      <td>trump</td>\n",
       "      <td>Thank you</td>\n",
       "    </tr>\n",
       "    <tr>\n",
       "      <th>2</th>\n",
       "      <td>trump</td>\n",
       "      <td>Thank you to Vice President Pence</td>\n",
       "    </tr>\n",
       "    <tr>\n",
       "      <th>3</th>\n",
       "      <td>trump</td>\n",
       "      <td>He's a good guy</td>\n",
       "    </tr>\n",
       "    <tr>\n",
       "      <th>4</th>\n",
       "      <td>trump</td>\n",
       "      <td>We've done a great job together</td>\n",
       "    </tr>\n",
       "    <tr>\n",
       "      <th>...</th>\n",
       "      <td>...</td>\n",
       "      <td>...</td>\n",
       "    </tr>\n",
       "    <tr>\n",
       "      <th>33812</th>\n",
       "      <td>trump</td>\n",
       "      <td>Martha, go out and win</td>\n",
       "    </tr>\n",
       "    <tr>\n",
       "      <th>33813</th>\n",
       "      <td>trump</td>\n",
       "      <td>Go out and win</td>\n",
       "    </tr>\n",
       "    <tr>\n",
       "      <th>33814</th>\n",
       "      <td>trump</td>\n",
       "      <td>Vote McSally</td>\n",
       "    </tr>\n",
       "    <tr>\n",
       "      <th>33815</th>\n",
       "      <td>trump</td>\n",
       "      <td>Thank you everybody</td>\n",
       "    </tr>\n",
       "    <tr>\n",
       "      <th>33816</th>\n",
       "      <td>trump</td>\n",
       "      <td></td>\n",
       "    </tr>\n",
       "  </tbody>\n",
       "</table>\n",
       "<p>33817 rows × 2 columns</p>\n",
       "</div>"
      ],
      "text/plain": [
       "        name                                line\n",
       "0      trump                           Thank you\n",
       "1      trump                           Thank you\n",
       "2      trump   Thank you to Vice President Pence\n",
       "3      trump                     He's a good guy\n",
       "4      trump     We've done a great job together\n",
       "...      ...                                 ...\n",
       "33812  trump              Martha, go out and win\n",
       "33813  trump                      Go out and win\n",
       "33814  trump                        Vote McSally\n",
       "33815  trump                 Thank you everybody\n",
       "33816  trump                                    \n",
       "\n",
       "[33817 rows x 2 columns]"
      ]
     },
     "execution_count": 49,
     "metadata": {},
     "output_type": "execute_result"
    }
   ],
   "source": [
    "df"
   ]
  },
  {
   "cell_type": "code",
   "execution_count": 50,
   "id": "10922d07",
   "metadata": {},
   "outputs": [],
   "source": [
    "df.to_csv(\"trump.csv\", index=False)"
   ]
  },
  {
   "cell_type": "code",
   "execution_count": null,
   "id": "3db27c9a",
   "metadata": {},
   "outputs": [],
   "source": []
  }
 ],
 "metadata": {
  "kernelspec": {
   "display_name": "Python 3 (ipykernel)",
   "language": "python",
   "name": "python3"
  },
  "language_info": {
   "codemirror_mode": {
    "name": "ipython",
    "version": 3
   },
   "file_extension": ".py",
   "mimetype": "text/x-python",
   "name": "python",
   "nbconvert_exporter": "python",
   "pygments_lexer": "ipython3",
   "version": "3.9.13"
  }
 },
 "nbformat": 4,
 "nbformat_minor": 5
}
